{
 "cells": [
  {
   "cell_type": "markdown",
   "metadata": {},
   "source": [
    "# Praktikum 1\n",
    "### Group Members \n",
    "1. 13516044 - Annisa Sekar Ayuningtyas\n",
    "2. 13516078 - Muhammad Alif Arifin\n",
    "3. 13516152 - Deborah Aprilia Josephine\n",
    "\n",
    "## Import Library and Dataset"
   ]
  },
  {
   "cell_type": "code",
   "execution_count": null,
   "metadata": {},
   "outputs": [],
   "source": [
    "import keras\n",
    "import numpy as np\n",
    "import matplotlib.pyplot as plt\n",
    "import pandas as pd"
   ]
  },
  {
   "cell_type": "code",
   "execution_count": null,
   "metadata": {},
   "outputs": [],
   "source": [
    "from keras.models import Sequential\n",
    "from keras.layers import Dense, Dropout, LSTM"
   ]
  },
  {
   "cell_type": "markdown",
   "metadata": {},
   "source": [
    "## Preprocessing"
   ]
  },
  {
   "cell_type": "code",
   "execution_count": null,
   "metadata": {},
   "outputs": [],
   "source": [
    "train_df = pd.read_csv('train.csv')\n",
    "train_df"
   ]
  },
  {
   "cell_type": "code",
   "execution_count": null,
   "metadata": {},
   "outputs": [],
   "source": [
    "test_df = pd.read_csv('test.csv')\n",
    "test_df"
   ]
  },
  {
   "cell_type": "code",
   "execution_count": null,
   "metadata": {},
   "outputs": [],
   "source": [
    "targets_train = train_df['label']\n",
    "features_train = train_df.drop(columns=['label', 'Unnamed: 0', 'Unnamed: 0.1', 'people'])\n",
    "\n",
    "targets_test = test_df['label']\n",
    "features_test = test_df.drop(columns=['label', 'Unnamed: 0', 'Unnamed: 0.1', 'people'])\n",
    "\n",
    "print (features_train.shape)\n",
    "print (targets_train.shape)\n",
    "print (features_test.shape)\n",
    "print (targets_test.shape)"
   ]
  },
  {
   "cell_type": "code",
   "execution_count": null,
   "metadata": {},
   "outputs": [],
   "source": [
    "def normalize(data) :\n",
    "    min_data = data.min()\n",
    "    max_data = data.max()\n",
    "    result = list(map(lambda x: (x-min_data)/(max_data-min_data)*1, data))\n",
    "    return result\n",
    "\n",
    "normalize_features = ['freq', 'phase', 'rssi']\n",
    "\n",
    "for normalize_feature in normalize_features :\n",
    "    features_train[normalize_feature] = normalize(features_train[normalize_feature])\n",
    "    features_test[normalize_feature] = normalize(features_test[normalize_feature])\n",
    "    \n",
    "features_train['id'] = pd.Categorical(features_train['id'])\n",
    "dfId = pd.get_dummies(features_train['id'], prefix = 'id')\n",
    "features_train = pd.concat([features_train, dfId], axis=1)\n",
    "features_train = features_train.drop(columns=['id'], axis=1)\n",
    "\n",
    "features_test['id'] = pd.Categorical(features_test['id'])\n",
    "dfId = pd.get_dummies(features_test['id'], prefix = 'id')\n",
    "features_test = pd.concat([features_test, dfId], axis=1)\n",
    "features_test = features_test.drop(columns=['id'], axis=1)\n",
    "\n",
    "print (features_train.shape)\n",
    "print (features_test.shape)"
   ]
  },
  {
   "cell_type": "code",
   "execution_count": null,
   "metadata": {},
   "outputs": [],
   "source": [
    "features_train = np.array(features_train)\n",
    "features_test = np.array(features_test)\n",
    "features_train = features_train.reshape(features_train.shape[0], features_train.shape[1], 1)\n",
    "features_test = features_test.reshape(features_test.shape[0], features_test.shape[1], 1)\n",
    "\n",
    "print (features_train.shape)\n",
    "print (features_test.shape)"
   ]
  },
  {
   "cell_type": "markdown",
   "metadata": {},
   "source": [
    "## Model"
   ]
  },
  {
   "cell_type": "markdown",
   "metadata": {},
   "source": [
    "### RNN"
   ]
  },
  {
   "cell_type": "code",
   "execution_count": null,
   "metadata": {},
   "outputs": [],
   "source": [
    "rnn = Sequential()"
   ]
  },
  {
   "cell_type": "markdown",
   "metadata": {},
   "source": [
    "### LSTM"
   ]
  },
  {
   "cell_type": "code",
   "execution_count": null,
   "metadata": {},
   "outputs": [],
   "source": [
    "lstm = Sequential()"
   ]
  },
  {
   "cell_type": "markdown",
   "metadata": {},
   "source": [
    "### GRU"
   ]
  },
  {
   "cell_type": "code",
   "execution_count": null,
   "metadata": {},
   "outputs": [],
   "source": [
    "from keras.layers import GRU, LSTM, CuDNNGRU, CuDNNLSTM, Activation, Flatten\n",
    "from keras.preprocessing.sequence import pad_sequences\n",
    "from sklearn.model_selection import train_test_split"
   ]
  },
  {
   "cell_type": "code",
   "execution_count": null,
   "metadata": {},
   "outputs": [],
   "source": [
    "gru = Sequential()\n",
    "gru.add(GRU(50, input_shape = (features_train.shape[1], 1), return_sequences = True))\n",
    "gru.add(Dropout(0.2))\n",
    "gru.add(GRU(1, return_sequences = False))\n",
    "gru.add(Dropout(0.2))\n",
    "gru.add(Activation('sigmoid'))\n",
    "\n",
    "gru.compile(loss = 'binary_crossentropy', optimizer = 'adam', metrics = ['accuracy'])\n",
    "\n",
    "gru.fit(features_train, targets_train, batch_size = 100, epochs = 10, verbose = 0)\n",
    "\n",
    "scores = gru.evaluate(features_test, targets_test, verbose=0)"
   ]
  },
  {
   "cell_type": "markdown",
   "metadata": {},
   "source": [
    "## Evaluation"
   ]
  },
  {
   "cell_type": "code",
   "execution_count": null,
   "metadata": {},
   "outputs": [],
   "source": [
    "from sklearn.metrics import accuracy_score\n",
    "from sklearn.metrics import f1_score\n",
    "from sklearn.metrics import confusion_matrix"
   ]
  },
  {
   "cell_type": "code",
   "execution_count": null,
   "metadata": {},
   "outputs": [],
   "source": [
    "f1_score_test = f1_score(y_true, y_pred, average='macro')\n",
    "accuracy_score_test = accuracy_score(y_true, y_pred)\n",
    "confusion_matrix_test = confusion_matrix(y_true, y_pred, labels=[\"ant\", \"bird\", \"cat\"])\n",
    "np.set_printoptions(precision=2)\n",
    "print('Confusion matrix')\n",
    "print(cm)\n",
    "plt.figure()\n",
    "plot_confusion_matrix(confusion_matrix_test)"
   ]
  },
  {
   "cell_type": "code",
   "execution_count": null,
   "metadata": {},
   "outputs": [],
   "source": []
  }
 ],
 "metadata": {
  "kernelspec": {
   "display_name": "Python 3",
   "language": "python",
   "name": "python3"
  },
  "language_info": {
   "codemirror_mode": {
    "name": "ipython",
    "version": 3
   },
   "file_extension": ".py",
   "mimetype": "text/x-python",
   "name": "python",
   "nbconvert_exporter": "python",
   "pygments_lexer": "ipython3",
   "version": "3.7.3"
  }
 },
 "nbformat": 4,
 "nbformat_minor": 2
}
